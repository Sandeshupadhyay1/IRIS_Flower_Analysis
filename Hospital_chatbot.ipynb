{
  "nbformat": 4,
  "nbformat_minor": 0,
  "metadata": {
    "colab": {
      "provenance": [],
      "authorship_tag": "ABX9TyOwAlP0vJ+QUyjt50pujgXc",
      "include_colab_link": true
    },
    "kernelspec": {
      "name": "python3",
      "display_name": "Python 3"
    },
    "language_info": {
      "name": "python"
    }
  },
  "cells": [
    {
      "cell_type": "markdown",
      "metadata": {
        "id": "view-in-github",
        "colab_type": "text"
      },
      "source": [
        "<a href=\"https://colab.research.google.com/github/Sandeshupadhyay1/IRIS_Flower_Analysis/blob/main/Hospital_chatbot.ipynb\" target=\"_parent\"><img src=\"https://colab.research.google.com/assets/colab-badge.svg\" alt=\"Open In Colab\"/></a>"
      ]
    },
    {
      "cell_type": "code",
      "source": [
        "import aiml\n",
        "\n",
        "# Create the kernel and learn AIML files\n",
        "kernel = aiml.Kernel()\n",
        "kernel.learn('/content/hospitalChatbot3.xml')\n",
        "kernel.respond(\"load prac2\")\n"
      ],
      "metadata": {
        "colab": {
          "base_uri": "https://localhost:8080/",
          "height": 70
        },
        "id": "89Mg_oKPYPP1",
        "outputId": "0b864058-0ce5-4434-8aa5-29c1b66b9ada"
      },
      "execution_count": 12,
      "outputs": [
        {
          "output_type": "stream",
          "name": "stdout",
          "text": [
            "Loading /content/hospitalChatbot3.xml...done (0.00 seconds)\n"
          ]
        },
        {
          "output_type": "stream",
          "name": "stderr",
          "text": [
            "WARNING: No match found for input: load prac2\n"
          ]
        },
        {
          "output_type": "execute_result",
          "data": {
            "text/plain": [
              "''"
            ],
            "application/vnd.google.colaboratory.intrinsic+json": {
              "type": "string"
            }
          },
          "metadata": {},
          "execution_count": 12
        }
      ]
    },
    {
      "cell_type": "code",
      "execution_count": 1,
      "metadata": {
        "colab": {
          "base_uri": "https://localhost:8080/"
        },
        "id": "nr-Z9SXaYG2p",
        "outputId": "b92b2046-187f-42c7-dec8-4db369caa535"
      },
      "outputs": [
        {
          "output_type": "stream",
          "name": "stdout",
          "text": [
            "Collecting python-aiml\n",
            "  Downloading python-aiml-0.9.3.zip (2.1 MB)\n",
            "\u001b[2K     \u001b[90m━━━━━━━━━━━━━━━━━━━━━━━━━━━━━━━━━━━━━━━━\u001b[0m \u001b[32m2.1/2.1 MB\u001b[0m \u001b[31m15.7 MB/s\u001b[0m eta \u001b[36m0:00:00\u001b[0m\n",
            "\u001b[?25h  Preparing metadata (setup.py) ... \u001b[?25l\u001b[?25hdone\n",
            "Requirement already satisfied: setuptools in /usr/local/lib/python3.10/dist-packages (from python-aiml) (71.0.4)\n",
            "Building wheels for collected packages: python-aiml\n",
            "  Building wheel for python-aiml (setup.py) ... \u001b[?25l\u001b[?25hdone\n",
            "  Created wheel for python-aiml: filename=python_aiml-0.9.3-py3-none-any.whl size=2122486 sha256=13b6c555db04905c9901ad6d798963ea267302b2d39b8cc0bb61e23ffbc069ec\n",
            "  Stored in directory: /root/.cache/pip/wheels/0d/62/6e/815540b0e885fca8b9fe6ba52b09baae4937e2bde900615f70\n",
            "Successfully built python-aiml\n",
            "Installing collected packages: python-aiml\n",
            "Successfully installed python-aiml-0.9.3\n"
          ]
        }
      ],
      "source": [
        "pip install python-aiml"
      ]
    },
    {
      "cell_type": "code",
      "source": [
        "import aiml"
      ],
      "metadata": {
        "id": "1hJ5Y_g6YcYz"
      },
      "execution_count": 13,
      "outputs": []
    },
    {
      "cell_type": "code",
      "source": [
        "kernel = aiml.Kernel()\n",
        "kernel.learn(\"/content/hospitalChatbot3.xml\")\n",
        "kernel.respond(\"load prac 2\")"
      ],
      "metadata": {
        "colab": {
          "base_uri": "https://localhost:8080/",
          "height": 70
        },
        "id": "PlRD0gwfdH1q",
        "outputId": "f004dbb3-16be-4ea1-9b03-0152014b1605"
      },
      "execution_count": 14,
      "outputs": [
        {
          "output_type": "stream",
          "name": "stdout",
          "text": [
            "Loading /content/hospitalChatbot3.xml...done (0.00 seconds)\n",
            "Loading /content/hospitalChatbot3.aiml...done (0.01 seconds)\n"
          ]
        },
        {
          "output_type": "execute_result",
          "data": {
            "text/plain": [
              "''"
            ],
            "application/vnd.google.colaboratory.intrinsic+json": {
              "type": "string"
            }
          },
          "metadata": {},
          "execution_count": 14
        }
      ]
    },
    {
      "cell_type": "code",
      "source": [
        "while True:\n",
        "    input_text= input(\">Human: \")\n",
        "    response =kernel.respond(input_text)\n",
        "    print(\">Bot: \"+response)"
      ],
      "metadata": {
        "colab": {
          "base_uri": "https://localhost:8080/"
        },
        "id": "qtgjmxVKdk_5",
        "outputId": "d116c250-275f-470c-cfc1-8caeb16886da"
      },
      "execution_count": null,
      "outputs": [
        {
          "output_type": "stream",
          "name": "stdout",
          "text": [
            ">Human: What are the visiting hours at the hospital?\n",
            ">Bot: The visiting hours are from 10:00 AM to 8:00 PM.\n"
          ]
        }
      ]
    },
    {
      "cell_type": "code",
      "source": [],
      "metadata": {
        "id": "PeSEnAa-dupy"
      },
      "execution_count": null,
      "outputs": []
    }
  ]
}